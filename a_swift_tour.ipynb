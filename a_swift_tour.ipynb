{
  "nbformat": 4,
  "nbformat_minor": 0,
  "metadata": {
    "colab": {
      "name": "a_swift_tour.ipynb",
      "version": "0.3.2",
      "provenance": [],
      "collapsed_sections": [
        "Ei_xfJY8_k8o",
        "a5vzIGZu_hVY"
      ],
      "include_colab_link": true
    },
    "kernelspec": {
      "name": "swift",
      "display_name": "Swift"
    }
  },
  "cells": [
    {
      "cell_type": "markdown",
      "metadata": {
        "id": "view-in-github",
        "colab_type": "text"
      },
      "source": [
        "<a href=\"https://colab.research.google.com/github/alexrigler/swift_notebooks/blob/master/a_swift_tour.ipynb\" target=\"_parent\"><img src=\"https://colab.research.google.com/assets/colab-badge.svg\" alt=\"Open In Colab\"/></a>"
      ]
    },
    {
      "metadata": {
        "id": "wMQ03t0r_N_N",
        "colab_type": "text"
      },
      "cell_type": "markdown",
      "source": [
        "# Swift tour\n",
        "\n",
        "Taken from the [Swift docs](https://docs.swift.org/swift-book/GuidedTour/GuidedTour.html)"
      ]
    },
    {
      "metadata": {
        "id": "Ei_xfJY8_k8o",
        "colab_type": "text"
      },
      "cell_type": "markdown",
      "source": [
        "## Simple values"
      ]
    },
    {
      "metadata": {
        "id": "kZRlD4utdPuX",
        "colab_type": "code",
        "outputId": "bb443a82-bb16-48e9-9db0-219abfc622a0",
        "colab": {
          "base_uri": "https://localhost:8080/",
          "height": 35
        }
      },
      "cell_type": "code",
      "source": [
        "print(\"Hello World!\")"
      ],
      "execution_count": 0,
      "outputs": [
        {
          "output_type": "stream",
          "text": [
            "Hello World!\r\n"
          ],
          "name": "stdout"
        }
      ]
    },
    {
      "metadata": {
        "id": "wJjx1otn1acF",
        "colab_type": "code",
        "outputId": "7b534594-2cdb-4568-9c1b-d8d5100d4d09",
        "colab": {
          "base_uri": "https://localhost:8080/",
          "height": 35
        }
      },
      "cell_type": "code",
      "source": [
        "var myVariable = 42\n",
        "myVariable = myVariable + 1\n",
        "myVariable"
      ],
      "execution_count": 0,
      "outputs": [
        {
          "output_type": "execute_result",
          "data": {
            "text/plain": [
              "43\n"
            ]
          },
          "metadata": {
            "tags": []
          },
          "execution_count": 6
        }
      ]
    },
    {
      "metadata": {
        "id": "0Od08caC1zU9",
        "colab_type": "code",
        "outputId": "d0cd36dc-ca73-4b07-8a27-7aa069018b7a",
        "colab": {
          "base_uri": "https://localhost:8080/",
          "height": 242
        }
      },
      "cell_type": "code",
      "source": [
        "let myConstant = 42\n",
        "myConstant = myConstant + 1"
      ],
      "execution_count": 0,
      "outputs": [
        {
          "output_type": "error",
          "ename": "",
          "evalue": "ignored",
          "traceback": [
            "error: <Cell 8>:2:1: error: cannot assign to value: 'myConstant' is a 'let' constant\nmyConstant = myConstant + 1\n^~~~~~~~~~\n\n<Cell 8>:1:1: note: change 'let' to 'var' to make it mutable\nlet myConstant = 42\n^~~\nvar\n\n"
          ]
        }
      ]
    },
    {
      "metadata": {
        "id": "Gw1SS63j12Yy",
        "colab_type": "code",
        "colab": {}
      },
      "cell_type": "code",
      "source": [
        "let implicitInteger = 70\n",
        "let implicitDouble = 70.0\n",
        "let explicitDouble: Double = 70"
      ],
      "execution_count": 0,
      "outputs": []
    },
    {
      "metadata": {
        "id": "P_T4Bdhg2RGy",
        "colab_type": "code",
        "outputId": "3b343f81-44a0-4bd9-dfd8-2e5f129405c9",
        "colab": {
          "base_uri": "https://localhost:8080/",
          "height": 35
        }
      },
      "cell_type": "code",
      "source": [
        "explicitDouble"
      ],
      "execution_count": 0,
      "outputs": [
        {
          "output_type": "execute_result",
          "data": {
            "text/plain": [
              "70.0\n"
            ]
          },
          "metadata": {
            "tags": []
          },
          "execution_count": 10
        }
      ]
    },
    {
      "metadata": {
        "id": "7eFHfG5n2Siv",
        "colab_type": "code",
        "outputId": "5c2c44b6-2ca4-49f9-d370-53154c26e31f",
        "colab": {
          "base_uri": "https://localhost:8080/",
          "height": 35
        }
      },
      "cell_type": "code",
      "source": [
        "let explicitFloat: Float = 4\n",
        "explicitFloat"
      ],
      "execution_count": 0,
      "outputs": [
        {
          "output_type": "execute_result",
          "data": {
            "text/plain": [
              "4.0\n"
            ]
          },
          "metadata": {
            "tags": []
          },
          "execution_count": 11
        }
      ]
    },
    {
      "metadata": {
        "id": "khOJLyRM2b-i",
        "colab_type": "code",
        "outputId": "c17beb76-68c4-433a-852e-2a8d30c94c77",
        "colab": {
          "base_uri": "https://localhost:8080/",
          "height": 35
        }
      },
      "cell_type": "code",
      "source": [
        "let label = \"The width is \"\n",
        "let width = 94\n",
        "let widthLabel = label + String(width)\n",
        "widthLabel"
      ],
      "execution_count": 0,
      "outputs": [
        {
          "output_type": "execute_result",
          "data": {
            "text/plain": [
              "\"The width is 94\"\n"
            ]
          },
          "metadata": {
            "tags": []
          },
          "execution_count": 12
        }
      ]
    },
    {
      "metadata": {
        "id": "FpVyaI3V2uDn",
        "colab_type": "code",
        "outputId": "a68cb0eb-26b4-4685-a55e-738eaf218256",
        "colab": {
          "base_uri": "https://localhost:8080/",
          "height": 224
        }
      },
      "cell_type": "code",
      "source": [
        "let widthLabel = label + width\n",
        "widthLabel"
      ],
      "execution_count": 0,
      "outputs": [
        {
          "output_type": "error",
          "ename": "",
          "evalue": "ignored",
          "traceback": [
            "error: <Cell 13>:1:24: error: binary operator '+' cannot be applied to operands of type 'String' and 'Int'\nlet widthLabel = label + width\n                 ~~~~~ ^ ~~~~~\n\n<Cell 13>:1:24: note: overloads for '+' exist with these partially matching parameter lists: (Int, Int), (String, String)\nlet widthLabel = label + width\n                       ^\n\n"
          ]
        }
      ]
    },
    {
      "metadata": {
        "id": "2Cx3wsqL22ik",
        "colab_type": "code",
        "colab": {
          "base_uri": "https://localhost:8080/",
          "height": 53
        },
        "outputId": "14e91284-6ff5-49ae-db78-27692b7dcbc9"
      },
      "cell_type": "code",
      "source": [
        "let apples = 3\n",
        "let oranges = 5\n",
        "let appleSummary = \"I have \\(apples) apples\"\n",
        "let fruitSummary = \"I have \\(apples + oranges) pieces of fruit\"\n",
        "print(appleSummary)\n",
        "print(fruitSummary)"
      ],
      "execution_count": 1,
      "outputs": [
        {
          "output_type": "stream",
          "text": [
            "I have 3 apples\r\n",
            "I have 8 pieces of fruit\r\n"
          ],
          "name": "stdout"
        }
      ]
    },
    {
      "metadata": {
        "id": "kPAX8xFa4kMX",
        "colab_type": "code",
        "colab": {
          "base_uri": "https://localhost:8080/",
          "height": 35
        },
        "outputId": "3dfd3f9b-fd5d-4f18-ad6f-3c9e88a4a26f"
      },
      "cell_type": "code",
      "source": [
        "let name = \"Alex\"\n",
        "let myFloat: Float = 3.14\n",
        "print(\"Alex likes \\(myFloat)\")"
      ],
      "execution_count": 2,
      "outputs": [
        {
          "output_type": "stream",
          "text": [
            "Alex likes 3.14\r\n"
          ],
          "name": "stdout"
        }
      ]
    },
    {
      "metadata": {
        "id": "T5A1mfEf5GlK",
        "colab_type": "code",
        "colab": {}
      },
      "cell_type": "code",
      "source": [
        "let quotation = \"\"\"\n",
        "Here is a long string\n",
        "that takes up multiple\n",
        "lines\n",
        "Look at this unescaped \" double quote \"\n",
        "Oh and don't foget the fruit \\(apples + oranges)\n",
        "\"\"\""
      ],
      "execution_count": 0,
      "outputs": []
    },
    {
      "metadata": {
        "id": "FDmgvf7351Hs",
        "colab_type": "code",
        "colab": {
          "base_uri": "https://localhost:8080/",
          "height": 55
        },
        "outputId": "5097c7b1-06da-442d-a42e-9f2eb38d3d63"
      },
      "cell_type": "code",
      "source": [
        "quotation"
      ],
      "execution_count": 10,
      "outputs": [
        {
          "output_type": "execute_result",
          "data": {
            "text/plain": [
              "\"Here is a long string\\nthat takes up multiple\\nlines\\nLook at this unescaped \\\" double quote \\\"\\nOh and don\\'t foget the fruit 8\"\n"
            ]
          },
          "metadata": {
            "tags": []
          },
          "execution_count": 10
        }
      ]
    },
    {
      "metadata": {
        "id": "Ds6B_S5G52Wk",
        "colab_type": "code",
        "colab": {
          "base_uri": "https://localhost:8080/",
          "height": 35
        },
        "outputId": "f28b5162-0527-4d50-8e10-dfa4eb040720"
      },
      "cell_type": "code",
      "source": [
        "var shoppingList = [\"catfish\", \"water\", \"tulips\"]\n",
        "shoppingList[1]"
      ],
      "execution_count": 11,
      "outputs": [
        {
          "output_type": "execute_result",
          "data": {
            "text/plain": [
              "\"water\"\n"
            ]
          },
          "metadata": {
            "tags": []
          },
          "execution_count": 11
        }
      ]
    },
    {
      "metadata": {
        "id": "kIBcW6zW6Z1f",
        "colab_type": "code",
        "colab": {}
      },
      "cell_type": "code",
      "source": [
        "var occupations = [\n",
        "  \"John\": \"Captain\",\n",
        "  \"Jane\": \"Admiral\"\n",
        "]\n",
        "\n",
        "occupations[\"Rob\"] = \"DJ\""
      ],
      "execution_count": 0,
      "outputs": []
    },
    {
      "metadata": {
        "id": "yPcQoIkw6pv9",
        "colab_type": "code",
        "colab": {
          "base_uri": "https://localhost:8080/",
          "height": 195
        },
        "outputId": "e3cb2768-49cd-439a-f79e-b38253abaa84"
      },
      "cell_type": "code",
      "source": [
        "occupations"
      ],
      "execution_count": 13,
      "outputs": [
        {
          "output_type": "execute_result",
          "data": {
            "text/plain": [
              "▿ 3 elements\n",
              "  ▿ 0 : 2 elements\n",
              "    - key : \"Jane\"\n",
              "    - value : \"Admiral\"\n",
              "  ▿ 1 : 2 elements\n",
              "    - key : \"Rob\"\n",
              "    - value : \"DJ\"\n",
              "  ▿ 2 : 2 elements\n",
              "    - key : \"John\"\n",
              "    - value : \"Captain\"\n"
            ]
          },
          "metadata": {
            "tags": []
          },
          "execution_count": 13
        }
      ]
    },
    {
      "metadata": {
        "id": "QfiDEX146rT0",
        "colab_type": "code",
        "colab": {
          "base_uri": "https://localhost:8080/",
          "height": 53
        },
        "outputId": "b725adf4-f21e-434f-8b76-c721c6235021"
      },
      "cell_type": "code",
      "source": [
        "occupations[\"Jane\"]"
      ],
      "execution_count": 14,
      "outputs": [
        {
          "output_type": "execute_result",
          "data": {
            "text/plain": [
              "▿ Optional<String>\n",
              "  - some : \"Admiral\"\n"
            ]
          },
          "metadata": {
            "tags": []
          },
          "execution_count": 14
        }
      ]
    },
    {
      "metadata": {
        "id": "p8ZIv7Oz6udi",
        "colab_type": "code",
        "colab": {
          "base_uri": "https://localhost:8080/",
          "height": 35
        },
        "outputId": "1ca908c5-225c-4585-b1a0-eb099e2dbc40"
      },
      "cell_type": "code",
      "source": [
        "shoppingList.append(\"candy\")\n",
        "print(shoppingList)"
      ],
      "execution_count": 15,
      "outputs": [
        {
          "output_type": "stream",
          "text": [
            "[\"catfish\", \"water\", \"tulips\", \"candy\"]\r\n"
          ],
          "name": "stdout"
        }
      ]
    },
    {
      "metadata": {
        "id": "o56Ll9PJ64FV",
        "colab_type": "code",
        "colab": {
          "base_uri": "https://localhost:8080/",
          "height": 106
        },
        "outputId": "91b8d79c-0e96-44bb-f794-1852c67188fa"
      },
      "cell_type": "code",
      "source": [
        "shoppingList"
      ],
      "execution_count": 16,
      "outputs": [
        {
          "output_type": "execute_result",
          "data": {
            "text/plain": [
              "▿ 4 elements\n",
              "  - 0 : \"catfish\"\n",
              "  - 1 : \"water\"\n",
              "  - 2 : \"tulips\"\n",
              "  - 3 : \"candy\"\n"
            ]
          },
          "metadata": {
            "tags": []
          },
          "execution_count": 16
        }
      ]
    },
    {
      "metadata": {
        "id": "ph0oxJIl65VD",
        "colab_type": "code",
        "colab": {}
      },
      "cell_type": "code",
      "source": [
        "let emptyArray = [String]()\n",
        "let emptyDictionary = [String: Float]()"
      ],
      "execution_count": 0,
      "outputs": []
    },
    {
      "metadata": {
        "id": "2f5jgUQQ7YNx",
        "colab_type": "code",
        "colab": {
          "base_uri": "https://localhost:8080/",
          "height": 35
        },
        "outputId": "8a7a8ef3-28f7-4050-a3ed-6885e6386c12"
      },
      "cell_type": "code",
      "source": [
        "emptyArray"
      ],
      "execution_count": 18,
      "outputs": [
        {
          "output_type": "execute_result",
          "data": {
            "text/plain": [
              "0 elements\n"
            ]
          },
          "metadata": {
            "tags": []
          },
          "execution_count": 18
        }
      ]
    },
    {
      "metadata": {
        "id": "Pc_2SMgv7ZFn",
        "colab_type": "code",
        "colab": {
          "base_uri": "https://localhost:8080/",
          "height": 35
        },
        "outputId": "a8a242b5-141e-4128-cdb5-513b87b97aec"
      },
      "cell_type": "code",
      "source": [
        "emptyDictionary"
      ],
      "execution_count": 19,
      "outputs": [
        {
          "output_type": "execute_result",
          "data": {
            "text/plain": [
              "0 elements\n"
            ]
          },
          "metadata": {
            "tags": []
          },
          "execution_count": 19
        }
      ]
    },
    {
      "metadata": {
        "id": "a5vzIGZu_hVY",
        "colab_type": "text"
      },
      "cell_type": "markdown",
      "source": [
        "## Control Flow"
      ]
    },
    {
      "metadata": {
        "id": "qGAog0X27fdV",
        "colab_type": "code",
        "colab": {
          "base_uri": "https://localhost:8080/",
          "height": 35
        },
        "outputId": "bfd0fc12-e999-4493-b028-006e019fae33"
      },
      "cell_type": "code",
      "source": [
        "let individualScores = [80, 90, 76, 100, 45, 12, 17]\n",
        "var teamScore = 0\n",
        "\n",
        "for score in individualScores {\n",
        "  if score > 50 {\n",
        "    teamScore += 3\n",
        "  } else {\n",
        "    teamScore += 1\n",
        "  }\n",
        "}\n",
        "\n",
        "print(teamScore)"
      ],
      "execution_count": 22,
      "outputs": [
        {
          "output_type": "stream",
          "text": [
            "15\r\n"
          ],
          "name": "stdout"
        }
      ]
    },
    {
      "metadata": {
        "id": "xjFO3j7L78Bz",
        "colab_type": "code",
        "colab": {
          "base_uri": "https://localhost:8080/",
          "height": 35
        },
        "outputId": "393c3150-92ef-4e5a-bee2-70dbb489fc0f"
      },
      "cell_type": "code",
      "source": [
        "var optionalString: String? = \"Hello\"\n",
        "print(optionalString == nil)"
      ],
      "execution_count": 23,
      "outputs": [
        {
          "output_type": "stream",
          "text": [
            "false\r\n"
          ],
          "name": "stdout"
        }
      ]
    },
    {
      "metadata": {
        "id": "Kf5Cu1n58h4_",
        "colab_type": "code",
        "colab": {
          "base_uri": "https://localhost:8080/",
          "height": 35
        },
        "outputId": "0f6cea27-c8a9-4a14-8bc7-59160c6df620"
      },
      "cell_type": "code",
      "source": [
        "var optionalName: String? = nil\n",
        "var greeting = \"Hello!\"\n",
        "if let name = optionalName {\n",
        "  greeting = \"Hello, \\(name)\"\n",
        "} else{\n",
        "  greeting = \"Bonjour!\"\n",
        "}\n",
        "\n",
        "greeting"
      ],
      "execution_count": 28,
      "outputs": [
        {
          "output_type": "execute_result",
          "data": {
            "text/plain": [
              "\"Bonjour!\"\n"
            ]
          },
          "metadata": {
            "tags": []
          },
          "execution_count": 28
        }
      ]
    },
    {
      "metadata": {
        "id": "F6f36SFy8ycF",
        "colab_type": "code",
        "colab": {
          "base_uri": "https://localhost:8080/",
          "height": 35
        },
        "outputId": "6a5c2e22-13e0-4982-fbd6-9447f2b26bed"
      },
      "cell_type": "code",
      "source": [
        "let nickName: String? = nil\n",
        "let fullName: String = \"Captain Blackbeard\"\n",
        "let informalGreeting = \"Hi \\(nickName ?? fullName)\"\n",
        "\n",
        "informalGreeting\n"
      ],
      "execution_count": 29,
      "outputs": [
        {
          "output_type": "execute_result",
          "data": {
            "text/plain": [
              "\"Hi Captain Blackbeard\"\n"
            ]
          },
          "metadata": {
            "tags": []
          },
          "execution_count": 29
        }
      ]
    },
    {
      "metadata": {
        "id": "iWmuLEuB81fz",
        "colab_type": "code",
        "colab": {
          "base_uri": "https://localhost:8080/",
          "height": 35
        },
        "outputId": "6c6dd215-32fe-48ba-eddf-ff0aa6e79edd"
      },
      "cell_type": "code",
      "source": [
        "let veggie = \"pepper\"\n",
        "switch veggie {\n",
        "  case \"celery\":\n",
        "    print(\"No thank you\")\n",
        "  case \"cucumber\", \"watercress\":\n",
        "    print(\"Yum, refreshing!\")\n",
        "  case let x where x.hasSuffix(\"pepper\"):\n",
        "    print(\"spicy?\")\n",
        "  default:\n",
        "    print(\"Let's make soup\")\n",
        "}"
      ],
      "execution_count": 31,
      "outputs": [
        {
          "output_type": "stream",
          "text": [
            "spicy?\r\n"
          ],
          "name": "stdout"
        }
      ]
    },
    {
      "metadata": {
        "id": "zldJlSK0_GfO",
        "colab_type": "code",
        "colab": {
          "base_uri": "https://localhost:8080/",
          "height": 177
        },
        "outputId": "da299806-5288-4ae7-f056-90982369f3dc"
      },
      "cell_type": "code",
      "source": [
        "let interestingNumbers = [\n",
        "    \"Prime\": [2, 3, 5, 7, 11, 13],\n",
        "    \"Fibonacci\": [1, 1, 2, 3, 5, 8],\n",
        "    \"Square\": [1, 4, 9, 16, 25],\n",
        "]\n",
        "\n",
        "var largest = 0\n",
        "var largestKind: String? = nil\n",
        "\n",
        "for (kind, numbers) in interestingNumbers {\n",
        "  for number in numbers {\n",
        "    if number > largest {\n",
        "      largestKind = \"\\(String(number)) \\(kind)\"\n",
        "      print(largestKind)\n",
        "      largest = number\n",
        "    }\n",
        "  }\n",
        "}\n",
        "\n",
        "print(\"Largest is \\(largest)\")"
      ],
      "execution_count": 41,
      "outputs": [
        {
          "output_type": "stream",
          "text": [
            "Optional(\"2 Prime\")\r\n",
            "Optional(\"3 Prime\")\r\n",
            "Optional(\"5 Prime\")\r\n",
            "Optional(\"7 Prime\")\r\n",
            "Optional(\"11 Prime\")\r\n",
            "Optional(\"13 Prime\")\r\n",
            "Optional(\"16 Square\")\r\n",
            "Optional(\"25 Square\")\r\n",
            "Largest is 25\r\n"
          ],
          "name": "stdout"
        }
      ]
    },
    {
      "metadata": {
        "id": "OV4DhouM_6_x",
        "colab_type": "code",
        "colab": {
          "base_uri": "https://localhost:8080/",
          "height": 35
        },
        "outputId": "411a1732-c161-4d9b-937b-6a79ff135cfa"
      },
      "cell_type": "code",
      "source": [
        "var n = 2\n",
        "while n < 100 {\n",
        "  n *= 2\n",
        "}\n",
        "\n",
        "print(n)"
      ],
      "execution_count": 42,
      "outputs": [
        {
          "output_type": "stream",
          "text": [
            "128\r\n"
          ],
          "name": "stdout"
        }
      ]
    },
    {
      "metadata": {
        "id": "ZCdG7UYwBlB9",
        "colab_type": "code",
        "colab": {
          "base_uri": "https://localhost:8080/",
          "height": 35
        },
        "outputId": "be45c7bb-c318-44ad-bb84-ad7c2dd4447e"
      },
      "cell_type": "code",
      "source": [
        "var m = 2\n",
        "repeat {\n",
        "  m *= 2\n",
        "} while m < 100\n",
        "print(m)"
      ],
      "execution_count": 43,
      "outputs": [
        {
          "output_type": "stream",
          "text": [
            "128\r\n"
          ],
          "name": "stdout"
        }
      ]
    },
    {
      "metadata": {
        "id": "odC1CBsLBvGi",
        "colab_type": "code",
        "colab": {
          "base_uri": "https://localhost:8080/",
          "height": 35
        },
        "outputId": "975f6b5d-5aa6-41e7-dda0-d7fc13e12dc5"
      },
      "cell_type": "code",
      "source": [
        "var total = 0\n",
        "\n",
        "for i in 0..<5 {\n",
        "  total += i\n",
        "}\n",
        "\n",
        "print(total)"
      ],
      "execution_count": 46,
      "outputs": [
        {
          "output_type": "stream",
          "text": [
            "10\r\n"
          ],
          "name": "stdout"
        }
      ]
    },
    {
      "metadata": {
        "id": "hCZg90W9B7gK",
        "colab_type": "text"
      },
      "cell_type": "markdown",
      "source": [
        "## Functions and closures"
      ]
    },
    {
      "metadata": {
        "id": "dRutWxraCQz0",
        "colab_type": "code",
        "colab": {
          "base_uri": "https://localhost:8080/",
          "height": 35
        },
        "outputId": "5528f3ed-0b8d-4456-f6b6-d340c85094af"
      },
      "cell_type": "code",
      "source": [
        "func greet(person: String, day: String) -> String {\n",
        "  return \"Hi \\(person), today is \\(day)\"\n",
        "}\n",
        "\n",
        "greet(person: \"Alex\", day: \"International Womens Day\")"
      ],
      "execution_count": 48,
      "outputs": [
        {
          "output_type": "execute_result",
          "data": {
            "text/plain": [
              "\"Hi Alex, today is International Womens Day\"\n"
            ]
          },
          "metadata": {
            "tags": []
          },
          "execution_count": 48
        }
      ]
    },
    {
      "metadata": {
        "id": "EzS0T8DqDCWu",
        "colab_type": "code",
        "colab": {
          "base_uri": "https://localhost:8080/",
          "height": 35
        },
        "outputId": "9f0d0b7b-3528-495c-9d3b-7fb359b296dd"
      },
      "cell_type": "code",
      "source": [
        "func greet(_ person: String, rand day: String) -> String {\n",
        "  return \"Hello \\(person), today is \\(day)\"\n",
        "}\n",
        "\n",
        "greet(\"Alex\", rand: \"Friday\")"
      ],
      "execution_count": 52,
      "outputs": [
        {
          "output_type": "execute_result",
          "data": {
            "text/plain": [
              "\"Hello Alex, today is Friday\"\n"
            ]
          },
          "metadata": {
            "tags": []
          },
          "execution_count": 52
        }
      ]
    },
    {
      "metadata": {
        "id": "4vkjgMYWDl6q",
        "colab_type": "code",
        "colab": {}
      },
      "cell_type": "code",
      "source": [
        "func calculateStatistics(scores: [Int]) -> (min: Int, max: Int, sum: Int) {\n",
        "  var min = scores[0]\n",
        "  var max = scores[0]\n",
        "  var sum = 0\n",
        "  \n",
        "  for score in scores {\n",
        "    if score > max {\n",
        "      max = score\n",
        "    } else if score < min {\n",
        "      min = score\n",
        "    }\n",
        "    sum += score\n",
        "  }\n",
        "  \n",
        "  return (min,max,sum)\n",
        "}"
      ],
      "execution_count": 0,
      "outputs": []
    },
    {
      "metadata": {
        "id": "Ti0bk4CFLcJ5",
        "colab_type": "code",
        "colab": {
          "base_uri": "https://localhost:8080/",
          "height": 88
        },
        "outputId": "921bb0f1-eb96-48fa-e3db-90d4944492ec"
      },
      "cell_type": "code",
      "source": [
        "let statistics = calculateStatistics(scores: [10, 4, 3, 9])\n",
        "\n",
        "print(statistics.sum)\n",
        "\n",
        "print(statistics.2)\n",
        "\n",
        "print(statistics.min)\n",
        "\n",
        "print(statistics.0)"
      ],
      "execution_count": 57,
      "outputs": [
        {
          "output_type": "stream",
          "text": [
            "26\r\n",
            "26\r\n",
            "3\r\n",
            "3\r\n"
          ],
          "name": "stdout"
        }
      ]
    },
    {
      "metadata": {
        "id": "5UqkeysELoB1",
        "colab_type": "code",
        "colab": {
          "base_uri": "https://localhost:8080/",
          "height": 35
        },
        "outputId": "10857d4b-a170-496d-b8e1-0b0c4eeb653f"
      },
      "cell_type": "code",
      "source": [
        "func returnTwelve() -> Int {\n",
        "  var y = 10\n",
        "  func add() {\n",
        "    y += 2\n",
        "  }\n",
        "  add()\n",
        "  return y\n",
        "}\n",
        "\n",
        "returnTwelve()"
      ],
      "execution_count": 58,
      "outputs": [
        {
          "output_type": "execute_result",
          "data": {
            "text/plain": [
              "12\n"
            ]
          },
          "metadata": {
            "tags": []
          },
          "execution_count": 58
        }
      ]
    },
    {
      "metadata": {
        "id": "_3GncZtbMNqJ",
        "colab_type": "code",
        "colab": {
          "base_uri": "https://localhost:8080/",
          "height": 35
        },
        "outputId": "c168da5e-91e8-41be-fa78-6136d5b9a56b"
      },
      "cell_type": "code",
      "source": [
        "func makeIncrementer() -> ((Int) -> Int) {\n",
        "  func addOne(number: Int) -> Int {\n",
        "    return 1 + number\n",
        "  }\n",
        "  return addOne\n",
        "}\n",
        "\n",
        "var increment = makeIncrementer()\n",
        "increment(6)"
      ],
      "execution_count": 59,
      "outputs": [
        {
          "output_type": "execute_result",
          "data": {
            "text/plain": [
              "7\n"
            ]
          },
          "metadata": {
            "tags": []
          },
          "execution_count": 59
        }
      ]
    },
    {
      "metadata": {
        "id": "DzAcGQh0MnPM",
        "colab_type": "code",
        "colab": {
          "base_uri": "https://localhost:8080/",
          "height": 35
        },
        "outputId": "706fb280-92e9-4cdc-fb0a-4ffc9d5ae95e"
      },
      "cell_type": "code",
      "source": [
        "func hasAnyMatches(list: [Int], condition: (Int) -> Bool) -> Bool {\n",
        "  for item in list {\n",
        "    if condition(item) {\n",
        "      return true\n",
        "    }\n",
        "  }\n",
        "  return false\n",
        "}\n",
        "\n",
        "func lessThanTen(number: Int) -> Bool {\n",
        "  return number < 10\n",
        "}\n",
        "\n",
        "var numbers = [20,12,15,5,6,19]\n",
        "hasAnyMatches(list: numbers, condition: lessThanTen)"
      ],
      "execution_count": 61,
      "outputs": [
        {
          "output_type": "execute_result",
          "data": {
            "text/plain": [
              "true\n"
            ]
          },
          "metadata": {
            "tags": []
          },
          "execution_count": 61
        }
      ]
    },
    {
      "metadata": {
        "id": "Iv-GYd4KM6rj",
        "colab_type": "code",
        "colab": {
          "base_uri": "https://localhost:8080/",
          "height": 141
        },
        "outputId": "8062ddea-4f92-4b1e-be5e-091dae7c0021"
      },
      "cell_type": "code",
      "source": [
        "numbers.map({ (number: Int) -> Int in\n",
        "     if number % 2 > 0 {\n",
        "       let result = 0\n",
        "       return result\n",
        "     } else { \n",
        "          let result = 3 * number\n",
        "           return result\n",
        "     }\n",
        "     \n",
        "})"
      ],
      "execution_count": 64,
      "outputs": [
        {
          "output_type": "execute_result",
          "data": {
            "text/plain": [
              "▿ 6 elements\n",
              "  - 0 : 60\n",
              "  - 1 : 36\n",
              "  - 2 : 0\n",
              "  - 3 : 0\n",
              "  - 4 : 18\n",
              "  - 5 : 0\n"
            ]
          },
          "metadata": {
            "tags": []
          },
          "execution_count": 64
        }
      ]
    },
    {
      "metadata": {
        "id": "94hK-UFjQhLf",
        "colab_type": "code",
        "colab": {
          "base_uri": "https://localhost:8080/",
          "height": 35
        },
        "outputId": "43cb5a58-30b3-4c39-e20c-4cde0b16d52d"
      },
      "cell_type": "code",
      "source": [
        "let mappedNumbers =  numbers.map({ number in 3 * number })\n",
        "print(mappedNumbers)"
      ],
      "execution_count": 65,
      "outputs": [
        {
          "output_type": "stream",
          "text": [
            "[60, 36, 45, 15, 18, 57]\r\n"
          ],
          "name": "stdout"
        }
      ]
    },
    {
      "metadata": {
        "id": "4RmVKA0OTG32",
        "colab_type": "code",
        "colab": {
          "base_uri": "https://localhost:8080/",
          "height": 35
        },
        "outputId": "9b809624-b096-4e93-e1a8-896595cb1cd3"
      },
      "cell_type": "code",
      "source": [
        "let sortedNumbers = numbers.sorted { $0 > $1 }\n",
        "print(sortedNumbers)"
      ],
      "execution_count": 66,
      "outputs": [
        {
          "output_type": "stream",
          "text": [
            "[20, 19, 15, 12, 6, 5]\r\n"
          ],
          "name": "stdout"
        }
      ]
    },
    {
      "metadata": {
        "id": "489Bo0A7TVAu",
        "colab_type": "text"
      },
      "cell_type": "markdown",
      "source": [
        "# Objects and Classes"
      ]
    },
    {
      "metadata": {
        "id": "ukB4CRsuUaCN",
        "colab_type": "code",
        "colab": {}
      },
      "cell_type": "code",
      "source": [
        "class Shape {\n",
        "  \n",
        "  var numberOfSides = 4\n",
        "  \n",
        "  let name: String = \"MyShape\"\n",
        "  \n",
        "  func simpleDescription() -> String {\n",
        "    return \"A shape with \\(numberOfSides) sides.\"\n",
        "  }\n",
        "  \n",
        "  func multiplySides(factor: Int) -> Int {\n",
        "    return numberOfSides * factor\n",
        "  }\n",
        "}"
      ],
      "execution_count": 0,
      "outputs": []
    },
    {
      "metadata": {
        "id": "yDbCDH8QVKku",
        "colab_type": "code",
        "colab": {
          "base_uri": "https://localhost:8080/",
          "height": 35
        },
        "outputId": "687b2888-9f49-4366-e406-8599fcb30f02"
      },
      "cell_type": "code",
      "source": [
        "var shape = Shape()\n",
        "shape.numberOfSides = 7\n",
        "var shapeDescription = shape.simpleDescription()\n",
        "print(shapeDescription)"
      ],
      "execution_count": 69,
      "outputs": [
        {
          "output_type": "stream",
          "text": [
            "A shape with 7 sides.\r\n"
          ],
          "name": "stdout"
        }
      ]
    },
    {
      "metadata": {
        "id": "JWfqjuy7VdSw",
        "colab_type": "code",
        "colab": {
          "base_uri": "https://localhost:8080/",
          "height": 53
        },
        "outputId": "c157eedf-d341-4b20-8f13-0f26d4bf9300"
      },
      "cell_type": "code",
      "source": [
        "print(shape.name)\n",
        "shape.multiplySides(factor: 7)"
      ],
      "execution_count": 71,
      "outputs": [
        {
          "output_type": "stream",
          "text": [
            "MyShape\r\n"
          ],
          "name": "stdout"
        },
        {
          "output_type": "execute_result",
          "data": {
            "text/plain": [
              "49\n"
            ]
          },
          "metadata": {
            "tags": []
          },
          "execution_count": 71
        }
      ]
    },
    {
      "metadata": {
        "id": "pobkRKkGVgoP",
        "colab_type": "code",
        "colab": {}
      },
      "cell_type": "code",
      "source": [
        "class NamedShape {\n",
        "  var numberOfSides: Int = 0\n",
        "  var name: String\n",
        "  \n",
        "  init(name: String) {\n",
        "    self.name = name\n",
        "  }\n",
        "  \n",
        "  func simpleDescription() -> String {\n",
        "    return \"A shape with \\(numberOfSides) sides.\"\n",
        "  }\n",
        "}"
      ],
      "execution_count": 0,
      "outputs": []
    },
    {
      "metadata": {
        "id": "IhOcpRigV8cB",
        "colab_type": "code",
        "colab": {
          "base_uri": "https://localhost:8080/",
          "height": 35
        },
        "outputId": "111914f9-b451-4716-bf5c-57d66c1178fd"
      },
      "cell_type": "code",
      "source": [
        "class Square: NamedShape {\n",
        "  var sideLength: Double\n",
        "  \n",
        "  init(sideLength: Double, name: String) {\n",
        "    self.sideLength = sideLength\n",
        "    super.init(name: name)\n",
        "    numberOfSides = 4\n",
        "  }\n",
        "  \n",
        "  func area() -> Double {\n",
        "    return sideLength * sideLength\n",
        "  }\n",
        "  \n",
        "  override func simpleDescription() -> String {\n",
        "    return \"A square with sides of length \\(sideLength)\"\n",
        "  }\n",
        "}\n",
        "\n",
        "let test = Square(sideLength: 5.2, name: \"my test square\")\n",
        "test.area()\n",
        "test.simpleDescription()"
      ],
      "execution_count": 76,
      "outputs": [
        {
          "output_type": "execute_result",
          "data": {
            "text/plain": [
              "\"A square with sides of length 5.2\"\n"
            ]
          },
          "metadata": {
            "tags": []
          },
          "execution_count": 76
        }
      ]
    },
    {
      "metadata": {
        "id": "rwxAcKmBcFg7",
        "colab_type": "code",
        "colab": {}
      },
      "cell_type": "code",
      "source": [
        "let π = Double.pi"
      ],
      "execution_count": 0,
      "outputs": []
    },
    {
      "metadata": {
        "id": "VqUs7NzoXZ_2",
        "colab_type": "code",
        "colab": {
          "base_uri": "https://localhost:8080/",
          "height": 35
        },
        "outputId": "7325cf9d-e567-43f4-859c-2d67059924f3"
      },
      "cell_type": "code",
      "source": [
        "class Circle: NamedShape {  \n",
        "  var radius: Double\n",
        "  \n",
        "  init(radius: Double, name: String) {\n",
        "    self.radius = radius\n",
        "    super.init(name: name)\n",
        "  }\n",
        "  \n",
        "  func area() -> Double {\n",
        "    return π * (radius * radius)\n",
        "  }\n",
        "  \n",
        "  override func simpleDescription() -> String {\n",
        "    return \"A circle with a radius of \\(radius)\"\n",
        "  }\n",
        "}\n",
        "\n",
        "let testCircle = Circle(radius: 4, name: \"my test circle\")\n",
        "testCircle.area()"
      ],
      "execution_count": 92,
      "outputs": [
        {
          "output_type": "execute_result",
          "data": {
            "text/plain": [
              "50.26548245743669\n"
            ]
          },
          "metadata": {
            "tags": []
          },
          "execution_count": 92
        }
      ]
    },
    {
      "metadata": {
        "id": "nqgVbKGueAUV",
        "colab_type": "code",
        "colab": {
          "base_uri": "https://localhost:8080/",
          "height": 53
        },
        "outputId": "00810b34-7a88-45d6-c5e3-7018014e493b"
      },
      "cell_type": "code",
      "source": [
        "class EquilateralTriangle: NamedShape {\n",
        "  var sideLength: Double = 0.0\n",
        "  \n",
        "  init(sideLength: Double, name: String) {\n",
        "    self.sideLength = sideLength\n",
        "    super.init(name: name)\n",
        "    numberOfSides = 3\n",
        "  }\n",
        "  \n",
        "  var perimeter: Double {\n",
        "    get {\n",
        "      return 3.0 * sideLength\n",
        "    }\n",
        "    set {\n",
        "      sideLength = newValue / 3.0\n",
        "    }\n",
        "  }\n",
        "  \n",
        "  override func simpleDescription() -> String {\n",
        "    return \"An equilateral triangle with sides of length \\(sideLength).\"\n",
        "  }\n",
        "}\n",
        "\n",
        "var triangle = EquilateralTriangle(sideLength: 3.1, name: \"my triangle\")\n",
        "\n",
        "print(triangle.perimeter)\n",
        "triangle.perimeter = 9.9\n",
        "print(triangle.sideLength)"
      ],
      "execution_count": 94,
      "outputs": [
        {
          "output_type": "stream",
          "text": [
            "9.3\r\n",
            "3.3000000000000003\r\n"
          ],
          "name": "stdout"
        }
      ]
    },
    {
      "metadata": {
        "id": "CzCZZfW7fE2x",
        "colab_type": "code",
        "colab": {
          "base_uri": "https://localhost:8080/",
          "height": 70
        },
        "outputId": "b5985177-e25a-46d4-95f5-97edeb66ae29"
      },
      "cell_type": "code",
      "source": [
        "class TriangleAndSquare {\n",
        "  var triangle: EquilateralTriangle {\n",
        "      willSet {\n",
        "          square.sideLength = newValue.sideLength\n",
        "      }\n",
        "  }\n",
        "  var square: Square {\n",
        "      willSet {\n",
        "          triangle.sideLength = newValue.sideLength\n",
        "      }\n",
        "  }\n",
        "  init(size: Double, name: String) {\n",
        "      square = Square(sideLength: size, name: name)\n",
        "      triangle = EquilateralTriangle(sideLength: size, name: name)\n",
        "  }\n",
        "}\n",
        "\n",
        "\n",
        "var triangleAndSquare = TriangleAndSquare(size: 10, name: \"another test shape\")\n",
        "\n",
        "print(triangleAndSquare.square.sideLength)\n",
        "print(triangleAndSquare.triangle.sideLength)\n",
        "triangleAndSquare.square = Square(sideLength: 50, name: \"larger square\")\n",
        "print(triangleAndSquare.triangle.sideLength)"
      ],
      "execution_count": 95,
      "outputs": [
        {
          "output_type": "stream",
          "text": [
            "10.0\r\n",
            "10.0\r\n",
            "50.0\r\n"
          ],
          "name": "stdout"
        }
      ]
    },
    {
      "metadata": {
        "id": "k7KrHBmQg49d",
        "colab_type": "code",
        "colab": {
          "base_uri": "https://localhost:8080/",
          "height": 53
        },
        "outputId": "aca59cf8-d0e0-4547-b794-cf9270f3f950"
      },
      "cell_type": "code",
      "source": [
        "let optionalSquare: Square? = Square(sideLength: 2.5, name: \"optional square\")\n",
        "let sideLength = optionalSquare?.sideLength\n",
        "sideLength"
      ],
      "execution_count": 97,
      "outputs": [
        {
          "output_type": "execute_result",
          "data": {
            "text/plain": [
              "▿ Optional<Double>\n",
              "  - some : 2.5\n"
            ]
          },
          "metadata": {
            "tags": []
          },
          "execution_count": 97
        }
      ]
    },
    {
      "metadata": {
        "id": "X84Hui_ChQyx",
        "colab_type": "text"
      },
      "cell_type": "markdown",
      "source": [
        "# Enumerations and Structures"
      ]
    },
    {
      "metadata": {
        "id": "WOHxz0ZZj0YE",
        "colab_type": "code",
        "colab": {
          "base_uri": "https://localhost:8080/",
          "height": 53
        },
        "outputId": "6f22ef08-8bc4-4e20-e8d6-1474138a5ca4"
      },
      "cell_type": "code",
      "source": [
        "enum Rank: Int {\n",
        "  case ace = 1\n",
        "  case two, three, four, five, six, seven, eight, nine, ten\n",
        "  case jack, queen, king\n",
        "  \n",
        "  func simpleDescription() -> String {\n",
        "    switch self {\n",
        "      case .ace:\n",
        "        return \"ace\"\n",
        "      case .jack:\n",
        "        return \"jack\"\n",
        "      case .queen:\n",
        "        return \"queen\"\n",
        "      case .king:\n",
        "        return \"king\"\n",
        "      default:\n",
        "        return String(self.rawValue)\n",
        "    }\n",
        "  }\n",
        "}\n",
        "\n",
        "let ace = Rank.ace\n",
        "let aceRawValue = ace.rawValue\n",
        "\n",
        "print(ace)\n",
        "aceRawValue"
      ],
      "execution_count": 101,
      "outputs": [
        {
          "output_type": "stream",
          "text": [
            "ace\r\n"
          ],
          "name": "stdout"
        },
        {
          "output_type": "execute_result",
          "data": {
            "text/plain": [
              "1\n"
            ]
          },
          "metadata": {
            "tags": []
          },
          "execution_count": 101
        }
      ]
    },
    {
      "metadata": {
        "id": "etdowU6HkyDm",
        "colab_type": "code",
        "colab": {
          "base_uri": "https://localhost:8080/",
          "height": 35
        },
        "outputId": "31728851-c30a-4471-cf4b-2df53a16e5d2"
      },
      "cell_type": "code",
      "source": [
        "let four = Rank.four\n",
        "let fourRawValue = four.rawValue\n",
        "print(fourRawValue)"
      ],
      "execution_count": 105,
      "outputs": [
        {
          "output_type": "stream",
          "text": [
            "4\r\n"
          ],
          "name": "stdout"
        }
      ]
    },
    {
      "metadata": {
        "id": "ASD0WteUk7OZ",
        "colab_type": "code",
        "colab": {}
      },
      "cell_type": "code",
      "source": [
        "func compareRanks(valOne: Rank, valTwo: Rank) -> Bool {\n",
        "  if valOne.rawValue > valTwo.rawValue {\n",
        "    return true\n",
        "  } else {\n",
        "    return false\n",
        "  }\n",
        "}"
      ],
      "execution_count": 0,
      "outputs": []
    },
    {
      "metadata": {
        "id": "9dvOE3acmGb1",
        "colab_type": "code",
        "colab": {
          "base_uri": "https://localhost:8080/",
          "height": 35
        },
        "outputId": "cb7a072e-2272-491c-8e0d-0aa72e4a47d8"
      },
      "cell_type": "code",
      "source": [
        "compareRanks(valOne: Rank.queen, valTwo: Rank.ace)"
      ],
      "execution_count": 109,
      "outputs": [
        {
          "output_type": "execute_result",
          "data": {
            "text/plain": [
              "true\n"
            ]
          },
          "metadata": {
            "tags": []
          },
          "execution_count": 109
        }
      ]
    },
    {
      "metadata": {
        "id": "TGuJlibummxB",
        "colab_type": "code",
        "colab": {}
      },
      "cell_type": "code",
      "source": [
        "if let convertedRank = Rank(rawValue: 3) {\n",
        "  let threeDescription = convertedRank.simpleDescription()\n",
        "}"
      ],
      "execution_count": 0,
      "outputs": []
    },
    {
      "metadata": {
        "id": "PMjJ-bzqoLme",
        "colab_type": "code",
        "colab": {
          "base_uri": "https://localhost:8080/",
          "height": 53
        },
        "outputId": "c142e08b-21ce-4c4f-aa5b-f6e2207e25b7"
      },
      "cell_type": "code",
      "source": [
        "enum Suit {\n",
        "  case spades, hearts, diamonds, clubs\n",
        "\n",
        "  func simpleDescription() -> String {\n",
        "    switch self {\n",
        "    case .spades:\n",
        "        return \"spades\"\n",
        "    case .hearts:\n",
        "        return \"hearts\"\n",
        "    case .diamonds:\n",
        "        return \"diamonds\"\n",
        "    case .clubs:\n",
        "        return \"clubs\"\n",
        "    }\n",
        "  }\n",
        "  \n",
        "  func color() -> String {\n",
        "    switch self {\n",
        "    case .spades:\n",
        "        return \"black\"\n",
        "    case .hearts:\n",
        "        return \"red\"\n",
        "    case .diamonds:\n",
        "        return \"red\"\n",
        "    case .clubs:\n",
        "        return \"black\"\n",
        "    } \n",
        "  }\n",
        "}\n",
        "\n",
        "let hearts = Suit.hearts\n",
        "let heartsDescription = hearts.simpleDescription()\n",
        "print(hearts.simpleDescription())\n",
        "print(hearts.color())"
      ],
      "execution_count": 123,
      "outputs": [
        {
          "output_type": "stream",
          "text": [
            "hearts\r\n",
            "red\r\n"
          ],
          "name": "stdout"
        }
      ]
    },
    {
      "metadata": {
        "id": "8eyUweGroPrq",
        "colab_type": "code",
        "colab": {
          "base_uri": "https://localhost:8080/",
          "height": 35
        },
        "outputId": "02a19879-70dc-4777-a7df-de24d9a25d10"
      },
      "cell_type": "code",
      "source": [
        "enum ServerResponse {\n",
        "  case result(String, String)\n",
        "  case failure(String)\n",
        "}\n",
        "\n",
        "let success = ServerResponse.result(\"6:00 AM\", \"8:30 PM\")\n",
        "let failure = ServerResponse.failure(\"Melting down\")\n",
        "\n",
        "switch failure {\n",
        "  case let .result(sunrise, sunset):\n",
        "    print(\"Sunrise is at \\(sunrise) and sunset is at \\(sunset)\")\n",
        "  case let .failure(message):\n",
        "    print(\"Failure... \\(message)\")\n",
        "}"
      ],
      "execution_count": 119,
      "outputs": [
        {
          "output_type": "stream",
          "text": [
            "Failure... Melting down\r\n"
          ],
          "name": "stdout"
        }
      ]
    },
    {
      "metadata": {
        "id": "L5SUIHuVrBxx",
        "colab_type": "code",
        "colab": {
          "base_uri": "https://localhost:8080/",
          "height": 35
        },
        "outputId": "ee48d7c2-e7b7-4444-8098-489d0013b0b7"
      },
      "cell_type": "code",
      "source": [
        "print(success)"
      ],
      "execution_count": 120,
      "outputs": [
        {
          "output_type": "stream",
          "text": [
            "result(\"6:00 AM\", \"8:30 PM\")\r\n"
          ],
          "name": "stdout"
        }
      ]
    },
    {
      "metadata": {
        "id": "nuY10Fl-rTSf",
        "colab_type": "code",
        "colab": {
          "base_uri": "https://localhost:8080/",
          "height": 977
        },
        "outputId": "6ab4bc86-5063-4261-a682-5db818f632b6"
      },
      "cell_type": "code",
      "source": [
        "\n",
        "\n",
        "struct Card {\n",
        "  var rank: Rank\n",
        "  var suit: Suit\n",
        "  \n",
        "  func simpleDescription() -> String {\n",
        "    return \"The \\(rank.simpleDescription()) of \\(suit.simpleDescription())\"\n",
        "  }\n",
        "  \n",
        "  static func fullDeck() -> [Card] {\n",
        "    let ranks = [Rank.ace, Rank.two, Rank.three, Rank.four, \n",
        "                 Rank.five, Rank.six, Rank.seven, Rank.eight,\n",
        "                 Rank.nine, Rank.ten, Rank.jack, Rank.queen, Rank.king]\n",
        "    \n",
        "    let suits = [Suit.spades, Suit.hearts, Suit.diamonds, Suit.clubs]\n",
        "    var deck = [Card]()\n",
        "    for suit in suits {\n",
        "      for rank in ranks {\n",
        "        deck.append(Card(rank: rank, suit: suit))\n",
        "      }\n",
        "    }\n",
        "    return deck\n",
        "  }\n",
        "}\n",
        "\n",
        "let threeOfSpades = Card(rank: .three, suit: .spades)\n",
        "let tOSDesc = threeOfSpades.simpleDescription()\n",
        "print(tOSDesc, \"\\n\")\n",
        "\n",
        "let fullDeck = Card.fullDeck()\n",
        "for c in fullDeck {\n",
        "  print(\"\\(c.rank) of \\(c.suit)\")\n",
        "}"
      ],
      "execution_count": 140,
      "outputs": [
        {
          "output_type": "stream",
          "text": [
            "The 3 of spades \r\n",
            "\r\n",
            "ace of spades\r\n",
            "two of spades\r\n",
            "three of spades\r\n",
            "four of spades\r\n",
            "five of spades\r\n",
            "six of spades\r\n",
            "seven of spades\r\n",
            "eight of spades\r\n",
            "nine of spades\r\n",
            "ten of spades\r\n",
            "jack of spades\r\n",
            "queen of spades\r\n",
            "king of spades\r\n",
            "ace of hearts\r\n",
            "two of hearts\r\n",
            "three of hearts\r\n",
            "four of hearts\r\n",
            "five of hearts\r\n",
            "six of hearts\r\n",
            "seven of hearts\r\n",
            "eight of hearts\r\n",
            "nine of hearts\r\n",
            "ten of hearts\r\n",
            "jack of hearts\r\n",
            "queen of hearts\r\n",
            "king of hearts\r\n",
            "ace of diamonds\r\n",
            "two of diamonds\r\n",
            "three of diamonds\r\n",
            "four of diamonds\r\n",
            "five of diamonds\r\n",
            "six of diamonds\r\n",
            "seven of diamonds\r\n",
            "eight of diamonds\r\n",
            "nine of diamonds\r\n",
            "ten of diamonds\r\n",
            "jack of diamonds\r\n",
            "queen of diamonds\r\n",
            "king of diamonds\r\n",
            "ace of clubs\r\n",
            "two of clubs\r\n",
            "three of clubs\r\n",
            "four of clubs\r\n",
            "five of clubs\r\n",
            "six of clubs\r\n",
            "seven of clubs\r\n",
            "eight of clubs\r\n",
            "nine of clubs\r\n",
            "ten of clubs\r\n",
            "jack of clubs\r\n",
            "queen of clubs\r\n",
            "king of clubs\r\n"
          ],
          "name": "stdout"
        }
      ]
    },
    {
      "metadata": {
        "id": "IO7MUedUyW_y",
        "colab_type": "text"
      },
      "cell_type": "markdown",
      "source": [
        "# Protocols and Extensions"
      ]
    },
    {
      "metadata": {
        "id": "4Pv1c71w0aik",
        "colab_type": "code",
        "colab": {}
      },
      "cell_type": "code",
      "source": [
        "protocol ExampleProtocol {\n",
        "  var simpleDescription: String { get }\n",
        "  var anotherProperty: Int { get }\n",
        "  mutating func adjust()\n",
        "}"
      ],
      "execution_count": 0,
      "outputs": []
    },
    {
      "metadata": {
        "id": "Zn2yu_gj0o8T",
        "colab_type": "code",
        "colab": {
          "base_uri": "https://localhost:8080/",
          "height": 53
        },
        "outputId": "d8b53bfb-3010-4668-cdf0-aa6ad16b9b27"
      },
      "cell_type": "code",
      "source": [
        "class SimpleClass: ExampleProtocol {\n",
        "  var simpleDescription: String = \"A very simple class \\n\"\n",
        "  var anotherProperty: Int = 42\n",
        "  func adjust() {\n",
        "    simpleDescription += \"Something is adjusted\"\n",
        "  }\n",
        "}\n",
        "\n",
        "var a = SimpleClass()\n",
        "a.adjust()\n",
        "print(a.simpleDescription)"
      ],
      "execution_count": 150,
      "outputs": [
        {
          "output_type": "stream",
          "text": [
            "A very simple class \r\n",
            "Something is adjusted\r\n"
          ],
          "name": "stdout"
        }
      ]
    },
    {
      "metadata": {
        "id": "dkeRYh1O1MHY",
        "colab_type": "code",
        "colab": {
          "base_uri": "https://localhost:8080/",
          "height": 53
        },
        "outputId": "b6224249-fb4f-4bc3-b6f6-5467e522a3d9"
      },
      "cell_type": "code",
      "source": [
        "struct SimpleStructure: ExampleProtocol {\n",
        "  var simpleDescription: String = \"A simple structure \\n\"\n",
        "  var anotherProperty: Int = 2019\n",
        "  mutating func adjust() {\n",
        "      simpleDescription += \"(adjusted)\"\n",
        "  }\n",
        "}\n",
        "\n",
        "var b = SimpleStructure()\n",
        "b.adjust()\n",
        "print(b.simpleDescription)"
      ],
      "execution_count": 151,
      "outputs": [
        {
          "output_type": "stream",
          "text": [
            "A simple structure \r\n",
            "(adjusted)\r\n"
          ],
          "name": "stdout"
        }
      ]
    },
    {
      "metadata": {
        "id": "YPCsam8x23f8",
        "colab_type": "code",
        "colab": {}
      },
      "cell_type": "code",
      "source": [
        "protocol ExampleProtocolTwo {\n",
        "  var simpleDescription: String { get }\n",
        "  mutating func adjust()\n",
        "}"
      ],
      "execution_count": 0,
      "outputs": []
    },
    {
      "metadata": {
        "id": "-UpLFrce1llk",
        "colab_type": "code",
        "colab": {
          "base_uri": "https://localhost:8080/",
          "height": 170
        },
        "outputId": "14302dd7-aea4-45e6-de1a-f7b048560c28"
      },
      "cell_type": "code",
      "source": [
        "extension Int: ExampleProtocolTwo {\n",
        "  var simpleDescription: String {\n",
        "      return \"The number \\(self)\"\n",
        "  }\n",
        "  mutating func adjust() {\n",
        "      self += 42\n",
        "  }\n",
        "}\n",
        "\n",
        "print(7.simpleDescription)"
      ],
      "execution_count": 162,
      "outputs": [
        {
          "output_type": "error",
          "ename": "",
          "evalue": "ignored",
          "traceback": [
            "error: <Cell 162>:6:7: error: cannot convert value of type 'Self' to expected argument type 'inout Int'\n      self += 42\n      ^~~~\n           as! inout Int\n\n"
          ]
        }
      ]
    },
    {
      "metadata": {
        "id": "sOLvqq6t2hN-",
        "colab_type": "code",
        "colab": {
          "base_uri": "https://localhost:8080/",
          "height": 53
        },
        "outputId": "1ece2f0b-72e5-4379-fdbb-ddd78e11cd5d"
      },
      "cell_type": "code",
      "source": [
        "let protocolValue: ExampleProtocol = a\n",
        "print(protocolValue.simpleDescription)"
      ],
      "execution_count": 158,
      "outputs": [
        {
          "output_type": "stream",
          "text": [
            "A very simple class \r\n",
            "Something is adjusted\r\n"
          ],
          "name": "stdout"
        }
      ]
    },
    {
      "metadata": {
        "id": "BWORvTxz5ca3",
        "colab_type": "text"
      },
      "cell_type": "markdown",
      "source": [
        "# Error Handling"
      ]
    },
    {
      "metadata": {
        "id": "_AWdK3ZM3Sa5",
        "colab_type": "code",
        "colab": {}
      },
      "cell_type": "code",
      "source": [
        "enum PrinterError: Error {\n",
        "  case outOfPaper\n",
        "  case noToner\n",
        "  case onFire\n",
        "}"
      ],
      "execution_count": 0,
      "outputs": []
    },
    {
      "metadata": {
        "id": "rbZ6ISUp4LfL",
        "colab_type": "code",
        "colab": {}
      },
      "cell_type": "code",
      "source": [
        "func send(job: Int, toPrinter printerName: String) throws -> String {\n",
        "  if printerName == \"Never Has Toner\" {\n",
        "      throw PrinterError.noToner\n",
        "  }\n",
        "  return \"Job sent\"\n",
        "}"
      ],
      "execution_count": 0,
      "outputs": []
    },
    {
      "metadata": {
        "id": "gJ_M13LZ4Wny",
        "colab_type": "code",
        "colab": {
          "base_uri": "https://localhost:8080/",
          "height": 35
        },
        "outputId": "5a9bdcf4-6f70-4db4-830d-9dbebc8b5afe"
      },
      "cell_type": "code",
      "source": [
        "do {\n",
        "    let printerResponse = try send(job: 1040, toPrinter: \"Never Has Toner\")\n",
        "    print(printerResponse)\n",
        "} catch {\n",
        "    print(error)\n",
        "}\n"
      ],
      "execution_count": 168,
      "outputs": [
        {
          "output_type": "stream",
          "text": [
            "noToner\r\n"
          ],
          "name": "stdout"
        }
      ]
    },
    {
      "metadata": {
        "id": "wGql-Zic4bMH",
        "colab_type": "code",
        "colab": {
          "base_uri": "https://localhost:8080/",
          "height": 35
        },
        "outputId": "8b036ca7-cd1d-4d3b-cff6-e33a10d27ac3"
      },
      "cell_type": "code",
      "source": [
        "do {\n",
        "    let printerResponse = try send(job: 1440, toPrinter: \"Gutenberg\")\n",
        "    print(printerResponse)\n",
        "} catch PrinterError.onFire {\n",
        "    print(\"I'll just put this over here, with the rest of the fire.\")\n",
        "} catch let printerError as PrinterError {\n",
        "    print(\"Printer error: \\(printerError).\")\n",
        "} catch {\n",
        "    print(error)\n",
        "}\n"
      ],
      "execution_count": 169,
      "outputs": [
        {
          "output_type": "stream",
          "text": [
            "Job sent\r\n"
          ],
          "name": "stdout"
        }
      ]
    },
    {
      "metadata": {
        "id": "rdonEiOj4m3n",
        "colab_type": "code",
        "colab": {}
      },
      "cell_type": "code",
      "source": [
        "let printerSuccess = try? send(job: 1884, toPrinter: \"Mergenthaler\")\n",
        "let printerFailure = try? send(job: 1885, toPrinter: \"Never Has Toner\")\n"
      ],
      "execution_count": 0,
      "outputs": []
    },
    {
      "metadata": {
        "id": "hAB9-snA4wF_",
        "colab_type": "code",
        "colab": {
          "base_uri": "https://localhost:8080/",
          "height": 35
        },
        "outputId": "89d06909-c48e-474a-f1ca-59eff3b3da4d"
      },
      "cell_type": "code",
      "source": [
        "var fridgeIsOpen = false\n",
        "let fridgeContent = [\"milk\", \"eggs\", \"leftovers\"]\n",
        "\n",
        "func fridgeContains(_ food: String) -> Bool {\n",
        "    fridgeIsOpen = true\n",
        "    defer {\n",
        "        fridgeIsOpen = false\n",
        "    }\n",
        "\n",
        "    let result = fridgeContent.contains(food)\n",
        "    return result\n",
        "}\n",
        "fridgeContains(\"banana\")\n",
        "print(fridgeIsOpen)"
      ],
      "execution_count": 171,
      "outputs": [
        {
          "output_type": "stream",
          "text": [
            "false\r\n"
          ],
          "name": "stdout"
        }
      ]
    },
    {
      "metadata": {
        "id": "Uuu5wGqH5YDq",
        "colab_type": "text"
      },
      "cell_type": "markdown",
      "source": [
        "# Generics"
      ]
    },
    {
      "metadata": {
        "id": "YUF32_bN4zLt",
        "colab_type": "code",
        "colab": {
          "base_uri": "https://localhost:8080/",
          "height": 106
        },
        "outputId": "3eca12e2-fc41-42a5-f93c-0a4f7e521479"
      },
      "cell_type": "code",
      "source": [
        "func makeArray<Item>(repeating item: Item, numberOfTimes: Int) -> [Item] {\n",
        "  var result = [Item]()\n",
        "  for _ in 0..<numberOfTimes {\n",
        "      result.append(item)\n",
        "  }\n",
        "  return result\n",
        "}\n",
        "\n",
        "\n",
        "makeArray(repeating: \"knock\", numberOfTimes: 4)\n"
      ],
      "execution_count": 172,
      "outputs": [
        {
          "output_type": "execute_result",
          "data": {
            "text/plain": [
              "▿ 4 elements\n",
              "  - 0 : \"knock\"\n",
              "  - 1 : \"knock\"\n",
              "  - 2 : \"knock\"\n",
              "  - 3 : \"knock\"\n"
            ]
          },
          "metadata": {
            "tags": []
          },
          "execution_count": 172
        }
      ]
    },
    {
      "metadata": {
        "id": "5GXiM_tV46Pt",
        "colab_type": "code",
        "colab": {}
      },
      "cell_type": "code",
      "source": [
        "enum OptionalValue<Wrapped> {\n",
        "    case none\n",
        "    case some(Wrapped)\n",
        "}\n",
        "var possibleInteger: OptionalValue<Int> = .none\n",
        "possibleInteger = .some(100)\n"
      ],
      "execution_count": 0,
      "outputs": []
    },
    {
      "metadata": {
        "id": "hPxSYhOK5ATp",
        "colab_type": "code",
        "colab": {
          "base_uri": "https://localhost:8080/",
          "height": 35
        },
        "outputId": "92a9197f-78ab-4713-a582-a2f38a34f10c"
      },
      "cell_type": "code",
      "source": [
        "func anyCommonElements<T: Sequence, U: Sequence>(_ lhs: T, _ rhs: U) -> Bool\n",
        "  where T.Element: Equatable, T.Element == U.Element\n",
        "{\n",
        "  for lhsItem in lhs {\n",
        "      for rhsItem in rhs {\n",
        "          if lhsItem == rhsItem {\n",
        "              return true\n",
        "          }\n",
        "      }\n",
        "  }\n",
        "  return false\n",
        "}\n",
        "anyCommonElements([1, 2, 3], [3])\n"
      ],
      "execution_count": 181,
      "outputs": [
        {
          "output_type": "execute_result",
          "data": {
            "text/plain": [
              "true\n"
            ]
          },
          "metadata": {
            "tags": []
          },
          "execution_count": 181
        }
      ]
    },
    {
      "metadata": {
        "id": "0MJ2pb4y5SLL",
        "colab_type": "code",
        "colab": {}
      },
      "cell_type": "code",
      "source": [
        ""
      ],
      "execution_count": 0,
      "outputs": []
    }
  ]
}